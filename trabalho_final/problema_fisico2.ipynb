{
 "cells": [
  {
   "cell_type": "markdown",
   "metadata": {
    "collapsed": true,
    "pycharm": {
     "name": "#%% md\n"
    }
   },
   "source": [
    "Problema físico 2: Dado o sistema abaixo onde m1 = 6kg e m2 = 4kg e o coeficiente de atrito\n",
    "cinético é 0,2 entre o “bloco 1” e a prancha. O bloco na prancha está encostado na mola de constante\n",
    "elástica 180N/m que está inicialmente comprimida de 30cm. A mola é liberada empurrando o “bloco\n",
    "1”, sem afrouxar a corda. Ao final de 40cm de percurso qual a velocidade dos blocos?\n",
    "\n",
    "\n"
   ]
  },
  {
   "cell_type": "markdown",
   "source": [
    "* Primeiro passo: Definir as variáveis utilizadas no problema, e em seguida\n",
    "importar as bibliotecas para utilizar as funções requeridas.\n",
    "* Variáveis fornecidas no desafio"
   ],
   "metadata": {
    "collapsed": false,
    "pycharm": {
     "name": "#%% md\n"
    }
   }
  },
  {
   "cell_type": "code",
   "execution_count": 11,
   "outputs": [],
   "source": [
    "import math\n",
    "import matplotlib\n",
    "import numpy\n",
    "\n",
    "m1 = 6  # massa 1 em quilograma\n",
    "m2 = 4  # massa 2 em quilograma\n",
    "Uc = 0.2  # coeficiente de atrito cinético\n",
    "k = 180  # constante elástica\n",
    "d = 40  # distancia final\n",
    "x = 0.3  # distancia comprimida\n",
    "g = 9.8  # gravidade"
   ],
   "metadata": {
    "collapsed": false,
    "pycharm": {
     "name": "#%%\n"
    }
   }
  },
  {
   "cell_type": "markdown",
   "source": [
    "* Segundo passo: Realizar os cálculos básicos necessários identificar a\n",
    "força na mola"
   ],
   "metadata": {
    "collapsed": false,
    "pycharm": {
     "name": "#%% md\n"
    }
   }
  },
  {
   "cell_type": "code",
   "execution_count": 21,
   "outputs": [
    {
     "name": "stdout",
     "output_type": "stream",
     "text": [
      "A força na mola comprimida é de: -54.0 N.\n"
     ]
    }
   ],
   "source": [
    "F = (-k) * x\n",
    "print(\"A força na mola comprimida é de:\", F,\"N.\")"
   ],
   "metadata": {
    "collapsed": false,
    "pycharm": {
     "name": "#%%\n"
    }
   }
  },
  {
   "cell_type": "markdown",
   "source": [
    "* Terceiro passo: Calcular a energia inicial do sistema"
   ],
   "metadata": {
    "collapsed": false,
    "pycharm": {
     "name": "#%% md\n"
    }
   }
  },
  {
   "cell_type": "code",
   "execution_count": 25,
   "outputs": [
    {
     "name": "stdout",
     "output_type": "stream",
     "text": [
      "A Energia Inicial do Sistema é de: Ei= 8.1 J. Sistema em repouso inicialmente\n"
     ]
    }
   ],
   "source": [
    "Ei = ((k * (x)**2)/ 2)\n",
    "print(\"A Energia Inicial do Sistema é de: Ei=\", Ei,\"J. Sistema em repouso inicialmente\")\n",
    "# A resposta correta > Ei = 8.1J"
   ],
   "metadata": {
    "collapsed": false,
    "pycharm": {
     "name": "#%%\n"
    }
   }
  },
  {
   "cell_type": "code",
   "execution_count": null,
   "outputs": [],
   "source": [],
   "metadata": {
    "collapsed": false,
    "pycharm": {
     "name": "#%%\n"
    }
   }
  }
 ],
 "metadata": {
  "kernelspec": {
   "display_name": "Python 3",
   "language": "python",
   "name": "python3"
  },
  "language_info": {
   "codemirror_mode": {
    "name": "ipython",
    "version": 2
   },
   "file_extension": ".py",
   "mimetype": "text/x-python",
   "name": "python",
   "nbconvert_exporter": "python",
   "pygments_lexer": "ipython2",
   "version": "2.7.6"
  }
 },
 "nbformat": 4,
 "nbformat_minor": 0
}