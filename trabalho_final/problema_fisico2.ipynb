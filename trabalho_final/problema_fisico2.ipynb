{
 "cells": [
  {
   "cell_type": "markdown",
   "metadata": {
    "collapsed": true,
    "pycharm": {
     "name": "#%% md\n"
    }
   },
   "source": [
    "\n",
    "Problema físico 2: Dado o sistema abaixo onde m1 = 6kg e m2 = 4kg e o coeficiente de atrito\n",
    "cinético é 0,2 entre o “bloco 1” e a prancha. O bloco na prancha está encostado na mola de constante\n",
    "elástica 180N/m que está inicialmente comprimida de 30cm. A mola é liberada empurrando o “bloco\n",
    "1”, sem afrouxar a corda. Ao final de 40cm de percurso qual a velocidade dos blocos?\n",
    "\n",
    "\n"
   ]
  },
  {
   "cell_type": "markdown",
   "source": [
    "* Primeiro passo: Definir as variáveis utilizadas no problema, e em seguida\n",
    "importar as bibliotecas para utilizar as funções requeridas.\n",
    "* Variáveis fornecidas no desafio"
   ],
   "metadata": {
    "collapsed": false,
    "pycharm": {
     "name": "#%% md\n"
    }
   }
  },
  {
   "cell_type": "code",
   "execution_count": 1,
   "outputs": [],
   "source": [
    "import math\n",
    "import matplotlib\n",
    "import numpy\n",
    "\n",
    "m1 = 6  # massa 1 em quilograma\n",
    "m2 = 4  # massa 2 em quilograma\n",
    "Uc = 0.2  # coeficiente de atrito cinético\n",
    "k = 180  # constante elástica\n",
    "d = 0.4  # distancia final\n",
    "x = 0.3  # distancia comprimida\n",
    "g = 9.8  # gravidade\n"
   ],
   "metadata": {
    "collapsed": false,
    "pycharm": {
     "name": "#%%\n"
    }
   }
  },
  {
   "cell_type": "markdown",
   "source": [
    "* Segundo passo: Realizar os cálculos básicos necessários identificar a\n",
    "força na mola"
   ],
   "metadata": {
    "collapsed": false,
    "pycharm": {
     "name": "#%% md\n"
    }
   }
  },
  {
   "cell_type": "code",
   "execution_count": 2,
   "outputs": [
    {
     "name": "stdout",
     "output_type": "stream",
     "text": [
      "A força na mola comprimida é de: -54.0 N\n"
     ]
    }
   ],
   "source": [
    "def força(k, x):\n",
    "    print(\"A força na mola comprimida é de:\", ((-k) * x),\"N\")\n",
    "força(180,0.3)\n",
    "# F = (-k) * x\n",
    "# print(\"A força na mola comprimida é de:\", F,\"N.\")"
   ],
   "metadata": {
    "collapsed": false,
    "pycharm": {
     "name": "#%%\n"
    }
   }
  },
  {
   "cell_type": "markdown",
   "source": [
    "* Terceiro passo: Calcular a energia inicial do sistema"
   ],
   "metadata": {
    "collapsed": false,
    "pycharm": {
     "name": "#%% md\n"
    }
   }
  },
  {
   "cell_type": "code",
   "execution_count": 3,
   "outputs": [
    {
     "name": "stdout",
     "output_type": "stream",
     "text": [
      "A Energia Inicial do Sistema é de: Ei= 8.1 J. Sistema em repouso inicialmente\n"
     ]
    }
   ],
   "source": [
    "def energia(k, x):\n",
    "    print(\"A Energia Inicial do Sistema é de: Ei=\",((k * (x)**2)/ 2),\"J. Sistema em repouso inicialmente\")\n",
    "energia(180,0.3)\n",
    "\n",
    "# A resposta correta > Ei = 8.1J"
   ],
   "metadata": {
    "collapsed": false,
    "pycharm": {
     "name": "#%%\n"
    }
   }
  },
  {
   "cell_type": "markdown",
   "source": [
    "* Quarto passo: Calcular o restante do problema"
   ],
   "metadata": {
    "collapsed": false,
    "pycharm": {
     "name": "#%% md\n"
    }
   }
  },
  {
   "cell_type": "code",
   "execution_count": 4,
   "outputs": [],
   "source": [
    "# Uc = Delta * Emec\n",
    "# V1 = V2 = V\n",
    "# Uc * m1 * d = Emec(final) - Emec(inicial)\n",
    "\n",
    "# obs: Corda não afrouxa | d = h\n",
    "\n",
    "# Uc * m1 * d = ((m2 * V2**2) / 2) + ((m1 * V1 * 2) / 2) - (m2 * g * d + Ei)\n"
   ],
   "metadata": {
    "collapsed": false,
    "pycharm": {
     "name": "#%%\n"
    }
   }
  },
  {
   "cell_type": "code",
   "execution_count": 8,
   "outputs": [
    {
     "name": "stdout",
     "output_type": "stream",
     "text": [
      "O coeficiente de atrito para essa equação é de:  4.7040000000000015 .\n"
     ]
    }
   ],
   "source": [
    "def atrito(Uc, m1, g, d):\n",
    "    print(\"O coeficiente de atrito para essa equação é de: \", Uc * m1 * g * d,\".\")\n",
    "\n",
    "atrito(0.2, 6, 9.8, 0.4)"
   ],
   "metadata": {
    "collapsed": false,
    "pycharm": {
     "name": "#%%\n"
    }
   }
  },
  {
   "cell_type": "code",
   "execution_count": 12,
   "outputs": [
    {
     "name": "stdout",
     "output_type": "stream",
     "text": [
      "5.0 23.78\n"
     ]
    }
   ],
   "source": [
    "# Será feito o cálculo da variação da Energia mec utilizando uma lista com os\n",
    "# valores das variáveis definidas no início do exercício\n",
    "\n",
    "l = [6, 4, 9.8, 0.4, 8.1]\n",
    "resultado_parcial = ((l[1] / 2) + (l[0] / 2))\n",
    "resultado_parcial1 = ((l[1] * l[2] * l[3]) + 8.1)\n",
    "print(resultado_parcial, resultado_parcial1)"
   ],
   "metadata": {
    "collapsed": false,
    "pycharm": {
     "name": "#%%\n"
    }
   }
  },
  {
   "cell_type": "markdown",
   "source": [
    "* Quinto passo: No último passo do exercício, as equações serão igualadas para\n",
    "se encontrar a resposta final, seerá realizado o cálculo\n",
    "de radiciação utilizando a função \"math\"."
   ],
   "metadata": {
    "collapsed": false,
    "pycharm": {
     "name": "#%% md\n"
    }
   }
  },
  {
   "cell_type": "code",
   "execution_count": 16,
   "outputs": [
    {
     "name": "stdout",
     "output_type": "stream",
     "text": [
      "O resultado final da velocidade é de:  2.389979079406345 m/s\n"
     ]
    }
   ],
   "source": [
    "V_ao_quadrado = int(input(\"Digite o valor de V^2: \"))\n",
    "Delta_Emc = resultado_parcial1 + 4.78\n",
    "\n",
    "if V_ao_quadrado == 5:\n",
    "    print(\"O resultado final da velocidade é de: \", math.sqrt(Delta_Emc / V_ao_quadrado),\"m/s\")"
   ],
   "metadata": {
    "collapsed": false,
    "pycharm": {
     "name": "#%%\n"
    }
   }
  },
  {
   "cell_type": "code",
   "execution_count": null,
   "outputs": [],
   "source": [],
   "metadata": {
    "collapsed": false,
    "pycharm": {
     "name": "#%%\n"
    }
   }
  }
 ],
 "metadata": {
  "kernelspec": {
   "display_name": "Python 3",
   "language": "python",
   "name": "python3"
  },
  "language_info": {
   "codemirror_mode": {
    "name": "ipython",
    "version": 2
   },
   "file_extension": ".py",
   "mimetype": "text/x-python",
   "name": "python",
   "nbconvert_exporter": "python",
   "pygments_lexer": "ipython2",
   "version": "2.7.6"
  }
 },
 "nbformat": 4,
 "nbformat_minor": 0
}