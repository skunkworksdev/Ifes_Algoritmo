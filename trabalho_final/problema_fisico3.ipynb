{
 "cells": [
  {
   "cell_type": "markdown",
   "metadata": {
    "collapsed": true,
    "pycharm": {
     "name": "#%% md\n"
    }
   },
   "source": [
    "Problema físico 3: Na figura abaixo, uma polia feita de um cilindro maciço tem 20cm de raio, montada\n",
    "em um eixo horizontal sem atrito. O momento de inércia de um cilindro maciço é 1/2 MR\n",
    ". Uma corda de massa desprezível é enrolada a polia e presa a uma caixa de 2,0kg que escorrega sob um plano inclinado\n",
    "de 20º com a horizontal cujo atrito tem coeficiente 0,1. Se ele desce com uma aceleração de 2m/s2, qual será a massa da polia?"
   ]
  },
  {
   "cell_type": "markdown",
   "source": [
    "* Primeiro passo: Definir as variáveis utilizadas no problema, e em seguida\n",
    "importar as bibliotecas para utilizar as funções requeridas.\n",
    "* Variáveis fornecidas no desafio\n",
    "\n",
    "\n"
   ],
   "metadata": {
    "collapsed": false,
    "pycharm": {
     "name": "#%% md\n"
    }
   }
  },
  {
   "cell_type": "code",
   "execution_count": null,
   "outputs": [],
   "source": [],
   "metadata": {
    "collapsed": false,
    "pycharm": {
     "name": "#%%\n"
    }
   }
  }
 ],
 "metadata": {
  "kernelspec": {
   "display_name": "Python 3",
   "language": "python",
   "name": "python3"
  },
  "language_info": {
   "codemirror_mode": {
    "name": "ipython",
    "version": 2
   },
   "file_extension": ".py",
   "mimetype": "text/x-python",
   "name": "python",
   "nbconvert_exporter": "python",
   "pygments_lexer": "ipython2",
   "version": "2.7.6"
  }
 },
 "nbformat": 4,
 "nbformat_minor": 0
}